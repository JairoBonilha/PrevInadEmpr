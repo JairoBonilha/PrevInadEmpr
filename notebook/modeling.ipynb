{
 "cells": [
  {
   "cell_type": "markdown",
   "metadata": {},
   "source": [
    "# Classificação de empréstimo padrão"
   ]
  },
  {
   "cell_type": "markdown",
   "metadata": {},
   "source": [
    "Este material mostra meu trabalho de construção de um modelo de classificação binária de linha de base usando Random Forest para prever se haverá um default no empréstimo (status de 'B' ou 'D').\n",
    "site: https://www.kaggle.com/python10pm/sklearn-50-best-tips-and-tricks "
   ]
  },
  {
   "cell_type": "markdown",
   "metadata": {},
   "source": [
    "### Tabela de conteúdo\n",
    "\n",
    "1. [Conectar ao banco de dados MySQL]\n",
    "2. Análise Exploratória de Dados\n",
    "3. [Extração de recurso]\n",
    "4. [Correlação]\n",
    "5. [Transformação]\n",
    "6. [Modelagem]\n",
    "7. [Importância do recurso]\n",
    "8. [Direções futuras]\n"
   ]
  },
  {
   "cell_type": "code",
   "execution_count": 51,
   "metadata": {},
   "outputs": [],
   "source": [
    "# Importando as Bibliotecas necessárias"
   ]
  },
  {
   "cell_type": "code",
   "execution_count": 1,
   "metadata": {},
   "outputs": [],
   "source": [
    "import mysql.connector\n",
    "import pandas as pd\n",
    "import numpy as np\n",
    "import matplotlib.pyplot as plt\n",
    "import seaborn as sns"
   ]
  },
  {
   "cell_type": "markdown",
   "metadata": {},
   "source": [
    "<a name='mysql'></a>\n",
    "## 1. Conectando com Database MySQL "
   ]
  },
  {
   "cell_type": "code",
   "execution_count": 2,
   "metadata": {},
   "outputs": [],
   "source": [
    "class MysqlIO:\n",
    "    \"\"\"Connect to MySQL server with python and excecute SQL commands.\"\"\"\n",
    "    def __init__(self, database='db_banco'):\n",
    "        try:\n",
    "            # Alterar o host, usuário e senha conforme necessário\n",
    "            connection = mysql.connector.connect(host='localhost',\n",
    "                                                 database=database,\n",
    "                                                 user='root',\n",
    "                                                 password='admjairo63',\n",
    "                                                 use_pure=True\n",
    "                                                 )\n",
    "            if connection.is_connected():\n",
    "                db_info = connection.get_server_info()\n",
    "                print(\"Connected to MySQL Server version\", db_info)\n",
    "                print(\"Your're connected to database:\", database)\n",
    "                self.connection = connection\n",
    "        except Exception as e:\n",
    "            print(\"Error while connecting to MySQL\", e)\n",
    "            \n",
    "    def execute(self, query, header=False):\n",
    "        \"\"\"Execute SQL commands and return retrieved queries.\"\"\"\n",
    "        cursor = self.connection.cursor(buffered=True)\n",
    "        cursor.execute(query)\n",
    "        try:\n",
    "            record = cursor.fetchall()\n",
    "            if header:\n",
    "                header = [i[0] for i in cursor.description]\n",
    "                return {'header': header, 'record': record}\n",
    "            else:    \n",
    "                return record\n",
    "        except:\n",
    "            pass\n",
    "        \n",
    "    def to_df(self, query):\n",
    "        \"\"\"Return the retrieved SQL queries into pandas dataframe.\"\"\"\n",
    "        res = self.execute(query, header=True)\n",
    "        df = pd.DataFrame(res['record'])\n",
    "        df.columns = res['header']\n",
    "        return df"
   ]
  },
  {
   "cell_type": "code",
   "execution_count": 3,
   "metadata": {},
   "outputs": [
    {
     "name": "stdout",
     "output_type": "stream",
     "text": [
      "Connected to MySQL Server version 8.0.22\n",
      "Your're connected to database: db_banco\n"
     ]
    }
   ],
   "source": [
    "db = MysqlIO('db_banco')"
   ]
  },
  {
   "cell_type": "markdown",
   "metadata": {},
   "source": [
    "## 3. Extraindo  dados"
   ]
  },
  {
   "cell_type": "markdown",
   "metadata": {},
   "source": [
    "\n",
    "O EDA é feito no notebook 'EDA.ipynb', então de acordo com os dados, vou pegar alguns desses dados e colocá-los em um dataframe e preparar para o ML"
   ]
  },
  {
   "cell_type": "markdown",
   "metadata": {},
   "source": [
    "### Valor empréstimo, conta, cidade"
   ]
  },
  {
   "cell_type": "code",
   "execution_count": 4,
   "metadata": {},
   "outputs": [],
   "source": [
    "query = \"\"\"\n",
    "    select id_conta, tb_emprestimo.date date_emprestimo, montante, duracao, pagamentos, status, frequencia, tb_conta.date date_acc,\n",
    "        A4, A11, A12, A13, A14, A15, A16\n",
    "    from tb_emprestimo join tb_conta using(id_conta)\n",
    "    join tb_distrito using(id_cidade)\"\"\"\n",
    "df = db.to_df(query)"
   ]
  },
  {
   "cell_type": "code",
   "execution_count": 5,
   "metadata": {},
   "outputs": [
    {
     "data": {
      "text/html": [
       "<div>\n",
       "<style scoped>\n",
       "    .dataframe tbody tr th:only-of-type {\n",
       "        vertical-align: middle;\n",
       "    }\n",
       "\n",
       "    .dataframe tbody tr th {\n",
       "        vertical-align: top;\n",
       "    }\n",
       "\n",
       "    .dataframe thead th {\n",
       "        text-align: right;\n",
       "    }\n",
       "</style>\n",
       "<table border=\"1\" class=\"dataframe\">\n",
       "  <thead>\n",
       "    <tr style=\"text-align: right;\">\n",
       "      <th></th>\n",
       "      <th>id_conta</th>\n",
       "      <th>date_emprestimo</th>\n",
       "      <th>montante</th>\n",
       "      <th>duracao</th>\n",
       "      <th>pagamentos</th>\n",
       "      <th>status</th>\n",
       "      <th>frequencia</th>\n",
       "      <th>date_acc</th>\n",
       "      <th>A4</th>\n",
       "      <th>A11</th>\n",
       "      <th>A12</th>\n",
       "      <th>A13</th>\n",
       "      <th>A14</th>\n",
       "      <th>A15</th>\n",
       "      <th>A16</th>\n",
       "    </tr>\n",
       "  </thead>\n",
       "  <tbody>\n",
       "    <tr>\n",
       "      <th>0</th>\n",
       "      <td>1787</td>\n",
       "      <td>1993-07-05</td>\n",
       "      <td>96396</td>\n",
       "      <td>12</td>\n",
       "      <td>8033.00</td>\n",
       "      <td>B</td>\n",
       "      <td>PAGAMENTO DIARIO</td>\n",
       "      <td>1993-03-22</td>\n",
       "      <td>94812</td>\n",
       "      <td>9650</td>\n",
       "      <td>3.38</td>\n",
       "      <td>3.67</td>\n",
       "      <td>100</td>\n",
       "      <td>2985</td>\n",
       "      <td>2804</td>\n",
       "    </tr>\n",
       "    <tr>\n",
       "      <th>1</th>\n",
       "      <td>1801</td>\n",
       "      <td>1993-07-11</td>\n",
       "      <td>165960</td>\n",
       "      <td>36</td>\n",
       "      <td>4610.00</td>\n",
       "      <td>A</td>\n",
       "      <td>PAGAMENTO MENSAL</td>\n",
       "      <td>1993-02-13</td>\n",
       "      <td>112709</td>\n",
       "      <td>8369</td>\n",
       "      <td>1.79</td>\n",
       "      <td>2.31</td>\n",
       "      <td>117</td>\n",
       "      <td>2854</td>\n",
       "      <td>2618</td>\n",
       "    </tr>\n",
       "    <tr>\n",
       "      <th>2</th>\n",
       "      <td>9188</td>\n",
       "      <td>1993-07-28</td>\n",
       "      <td>127080</td>\n",
       "      <td>60</td>\n",
       "      <td>2118.00</td>\n",
       "      <td>A</td>\n",
       "      <td>PAGAMENTO MENSAL</td>\n",
       "      <td>1993-02-08</td>\n",
       "      <td>77917</td>\n",
       "      <td>8390</td>\n",
       "      <td>2.28</td>\n",
       "      <td>2.89</td>\n",
       "      <td>132</td>\n",
       "      <td>2080</td>\n",
       "      <td>2122</td>\n",
       "    </tr>\n",
       "    <tr>\n",
       "      <th>3</th>\n",
       "      <td>1843</td>\n",
       "      <td>1993-08-03</td>\n",
       "      <td>105804</td>\n",
       "      <td>36</td>\n",
       "      <td>2939.00</td>\n",
       "      <td>A</td>\n",
       "      <td>PAGAMENTO MENSAL</td>\n",
       "      <td>1993-01-30</td>\n",
       "      <td>107870</td>\n",
       "      <td>8754</td>\n",
       "      <td>3.83</td>\n",
       "      <td>4.31</td>\n",
       "      <td>137</td>\n",
       "      <td>3804</td>\n",
       "      <td>3868</td>\n",
       "    </tr>\n",
       "    <tr>\n",
       "      <th>4</th>\n",
       "      <td>11013</td>\n",
       "      <td>1993-09-06</td>\n",
       "      <td>274740</td>\n",
       "      <td>60</td>\n",
       "      <td>4579.00</td>\n",
       "      <td>A</td>\n",
       "      <td>PAGAMENTO DIARIO</td>\n",
       "      <td>1993-02-14</td>\n",
       "      <td>1204953</td>\n",
       "      <td>12541</td>\n",
       "      <td>0.29</td>\n",
       "      <td>0.43</td>\n",
       "      <td>167</td>\n",
       "      <td>85677</td>\n",
       "      <td>99107</td>\n",
       "    </tr>\n",
       "  </tbody>\n",
       "</table>\n",
       "</div>"
      ],
      "text/plain": [
       "   id_conta date_emprestimo  montante  duracao pagamentos status  \\\n",
       "0      1787      1993-07-05     96396       12    8033.00      B   \n",
       "1      1801      1993-07-11    165960       36    4610.00      A   \n",
       "2      9188      1993-07-28    127080       60    2118.00      A   \n",
       "3      1843      1993-08-03    105804       36    2939.00      A   \n",
       "4     11013      1993-09-06    274740       60    4579.00      A   \n",
       "\n",
       "         frequencia    date_acc       A4    A11   A12   A13  A14    A15    A16  \n",
       "0  PAGAMENTO DIARIO  1993-03-22    94812   9650  3.38  3.67  100   2985   2804  \n",
       "1  PAGAMENTO MENSAL  1993-02-13   112709   8369  1.79  2.31  117   2854   2618  \n",
       "2  PAGAMENTO MENSAL  1993-02-08    77917   8390  2.28  2.89  132   2080   2122  \n",
       "3  PAGAMENTO MENSAL  1993-01-30   107870   8754  3.83  4.31  137   3804   3868  \n",
       "4  PAGAMENTO DIARIO  1993-02-14  1204953  12541  0.29  0.43  167  85677  99107  "
      ]
     },
     "execution_count": 5,
     "metadata": {},
     "output_type": "execute_result"
    }
   ],
   "source": [
    "#Verificando o tipo de dado de cada coluna\n",
    "df.head() "
   ]
  },
  {
   "cell_type": "code",
   "execution_count": 6,
   "metadata": {},
   "outputs": [],
   "source": [
    "df.set_index('id_conta', inplace=True)"
   ]
  },
  {
   "cell_type": "code",
   "execution_count": 7,
   "metadata": {},
   "outputs": [],
   "source": [
    "df['date_emprestimo'] = pd.to_datetime(df.date_emprestimo, format='%Y-%m-%d')\n",
    "df['date_acc'] = pd.to_datetime(df.date_acc, format='%Y-%m-%d')\n",
    "df['dias_emprestimo'] = (df['date_emprestimo'] - df['date_acc']).dt.days # Dias entre a criação da conta e a emissão do empréstimo\n",
    "df['n_habitantes'] = df.A4\n",
    "df['media_salarial'] = df.A11\n",
    "df['taxa_media_desemprego'] = df[['A12', 'A13']].mean(axis=1)\n",
    "df['taxa_empreendedor'] = df['A14']\n",
    "df['taxa_media_crime'] = df[['A15', 'A16']].mean(axis=1) / df['n_habitantes']\n",
    "df['default'] = (df['status'] == 'B') | (df['status'] == 'D')"
   ]
  },
  {
   "cell_type": "code",
   "execution_count": 8,
   "metadata": {},
   "outputs": [
    {
     "data": {
      "text/html": [
       "<div>\n",
       "<style scoped>\n",
       "    .dataframe tbody tr th:only-of-type {\n",
       "        vertical-align: middle;\n",
       "    }\n",
       "\n",
       "    .dataframe tbody tr th {\n",
       "        vertical-align: top;\n",
       "    }\n",
       "\n",
       "    .dataframe thead th {\n",
       "        text-align: right;\n",
       "    }\n",
       "</style>\n",
       "<table border=\"1\" class=\"dataframe\">\n",
       "  <thead>\n",
       "    <tr style=\"text-align: right;\">\n",
       "      <th></th>\n",
       "      <th>date_emprestimo</th>\n",
       "      <th>montante</th>\n",
       "      <th>duracao</th>\n",
       "      <th>pagamentos</th>\n",
       "      <th>status</th>\n",
       "      <th>frequencia</th>\n",
       "      <th>date_acc</th>\n",
       "      <th>A4</th>\n",
       "      <th>A11</th>\n",
       "      <th>A12</th>\n",
       "      <th>...</th>\n",
       "      <th>A14</th>\n",
       "      <th>A15</th>\n",
       "      <th>A16</th>\n",
       "      <th>dias_emprestimo</th>\n",
       "      <th>n_habitantes</th>\n",
       "      <th>media_salarial</th>\n",
       "      <th>taxa_media_desemprego</th>\n",
       "      <th>taxa_empreendedor</th>\n",
       "      <th>taxa_media_crime</th>\n",
       "      <th>default</th>\n",
       "    </tr>\n",
       "    <tr>\n",
       "      <th>id_conta</th>\n",
       "      <th></th>\n",
       "      <th></th>\n",
       "      <th></th>\n",
       "      <th></th>\n",
       "      <th></th>\n",
       "      <th></th>\n",
       "      <th></th>\n",
       "      <th></th>\n",
       "      <th></th>\n",
       "      <th></th>\n",
       "      <th></th>\n",
       "      <th></th>\n",
       "      <th></th>\n",
       "      <th></th>\n",
       "      <th></th>\n",
       "      <th></th>\n",
       "      <th></th>\n",
       "      <th></th>\n",
       "      <th></th>\n",
       "      <th></th>\n",
       "      <th></th>\n",
       "    </tr>\n",
       "  </thead>\n",
       "  <tbody>\n",
       "    <tr>\n",
       "      <th>1787</th>\n",
       "      <td>1993-07-05</td>\n",
       "      <td>96396</td>\n",
       "      <td>12</td>\n",
       "      <td>8033.00</td>\n",
       "      <td>B</td>\n",
       "      <td>PAGAMENTO DIARIO</td>\n",
       "      <td>1993-03-22</td>\n",
       "      <td>94812</td>\n",
       "      <td>9650</td>\n",
       "      <td>3.38</td>\n",
       "      <td>...</td>\n",
       "      <td>100</td>\n",
       "      <td>2985</td>\n",
       "      <td>2804</td>\n",
       "      <td>105</td>\n",
       "      <td>94812</td>\n",
       "      <td>9650</td>\n",
       "      <td>3.525</td>\n",
       "      <td>100</td>\n",
       "      <td>0.030529</td>\n",
       "      <td>True</td>\n",
       "    </tr>\n",
       "    <tr>\n",
       "      <th>1801</th>\n",
       "      <td>1993-07-11</td>\n",
       "      <td>165960</td>\n",
       "      <td>36</td>\n",
       "      <td>4610.00</td>\n",
       "      <td>A</td>\n",
       "      <td>PAGAMENTO MENSAL</td>\n",
       "      <td>1993-02-13</td>\n",
       "      <td>112709</td>\n",
       "      <td>8369</td>\n",
       "      <td>1.79</td>\n",
       "      <td>...</td>\n",
       "      <td>117</td>\n",
       "      <td>2854</td>\n",
       "      <td>2618</td>\n",
       "      <td>148</td>\n",
       "      <td>112709</td>\n",
       "      <td>8369</td>\n",
       "      <td>2.050</td>\n",
       "      <td>117</td>\n",
       "      <td>0.024275</td>\n",
       "      <td>False</td>\n",
       "    </tr>\n",
       "    <tr>\n",
       "      <th>9188</th>\n",
       "      <td>1993-07-28</td>\n",
       "      <td>127080</td>\n",
       "      <td>60</td>\n",
       "      <td>2118.00</td>\n",
       "      <td>A</td>\n",
       "      <td>PAGAMENTO MENSAL</td>\n",
       "      <td>1993-02-08</td>\n",
       "      <td>77917</td>\n",
       "      <td>8390</td>\n",
       "      <td>2.28</td>\n",
       "      <td>...</td>\n",
       "      <td>132</td>\n",
       "      <td>2080</td>\n",
       "      <td>2122</td>\n",
       "      <td>170</td>\n",
       "      <td>77917</td>\n",
       "      <td>8390</td>\n",
       "      <td>2.585</td>\n",
       "      <td>132</td>\n",
       "      <td>0.026965</td>\n",
       "      <td>False</td>\n",
       "    </tr>\n",
       "    <tr>\n",
       "      <th>1843</th>\n",
       "      <td>1993-08-03</td>\n",
       "      <td>105804</td>\n",
       "      <td>36</td>\n",
       "      <td>2939.00</td>\n",
       "      <td>A</td>\n",
       "      <td>PAGAMENTO MENSAL</td>\n",
       "      <td>1993-01-30</td>\n",
       "      <td>107870</td>\n",
       "      <td>8754</td>\n",
       "      <td>3.83</td>\n",
       "      <td>...</td>\n",
       "      <td>137</td>\n",
       "      <td>3804</td>\n",
       "      <td>3868</td>\n",
       "      <td>185</td>\n",
       "      <td>107870</td>\n",
       "      <td>8754</td>\n",
       "      <td>4.070</td>\n",
       "      <td>137</td>\n",
       "      <td>0.035561</td>\n",
       "      <td>False</td>\n",
       "    </tr>\n",
       "    <tr>\n",
       "      <th>11013</th>\n",
       "      <td>1993-09-06</td>\n",
       "      <td>274740</td>\n",
       "      <td>60</td>\n",
       "      <td>4579.00</td>\n",
       "      <td>A</td>\n",
       "      <td>PAGAMENTO DIARIO</td>\n",
       "      <td>1993-02-14</td>\n",
       "      <td>1204953</td>\n",
       "      <td>12541</td>\n",
       "      <td>0.29</td>\n",
       "      <td>...</td>\n",
       "      <td>167</td>\n",
       "      <td>85677</td>\n",
       "      <td>99107</td>\n",
       "      <td>204</td>\n",
       "      <td>1204953</td>\n",
       "      <td>12541</td>\n",
       "      <td>0.360</td>\n",
       "      <td>167</td>\n",
       "      <td>0.076677</td>\n",
       "      <td>False</td>\n",
       "    </tr>\n",
       "  </tbody>\n",
       "</table>\n",
       "<p>5 rows × 21 columns</p>\n",
       "</div>"
      ],
      "text/plain": [
       "         date_emprestimo  montante  duracao pagamentos status  \\\n",
       "id_conta                                                        \n",
       "1787          1993-07-05     96396       12    8033.00      B   \n",
       "1801          1993-07-11    165960       36    4610.00      A   \n",
       "9188          1993-07-28    127080       60    2118.00      A   \n",
       "1843          1993-08-03    105804       36    2939.00      A   \n",
       "11013         1993-09-06    274740       60    4579.00      A   \n",
       "\n",
       "                frequencia   date_acc       A4    A11   A12  ...  A14    A15  \\\n",
       "id_conta                                                     ...               \n",
       "1787      PAGAMENTO DIARIO 1993-03-22    94812   9650  3.38  ...  100   2985   \n",
       "1801      PAGAMENTO MENSAL 1993-02-13   112709   8369  1.79  ...  117   2854   \n",
       "9188      PAGAMENTO MENSAL 1993-02-08    77917   8390  2.28  ...  132   2080   \n",
       "1843      PAGAMENTO MENSAL 1993-01-30   107870   8754  3.83  ...  137   3804   \n",
       "11013     PAGAMENTO DIARIO 1993-02-14  1204953  12541  0.29  ...  167  85677   \n",
       "\n",
       "            A16  dias_emprestimo  n_habitantes  media_salarial  \\\n",
       "id_conta                                                         \n",
       "1787       2804              105         94812            9650   \n",
       "1801       2618              148        112709            8369   \n",
       "9188       2122              170         77917            8390   \n",
       "1843       3868              185        107870            8754   \n",
       "11013     99107              204       1204953           12541   \n",
       "\n",
       "          taxa_media_desemprego  taxa_empreendedor  taxa_media_crime  default  \n",
       "id_conta                                                                       \n",
       "1787                      3.525                100          0.030529     True  \n",
       "1801                      2.050                117          0.024275    False  \n",
       "9188                      2.585                132          0.026965    False  \n",
       "1843                      4.070                137          0.035561    False  \n",
       "11013                     0.360                167          0.076677    False  \n",
       "\n",
       "[5 rows x 21 columns]"
      ]
     },
     "execution_count": 8,
     "metadata": {},
     "output_type": "execute_result"
    }
   ],
   "source": [
    "df.head()"
   ]
  },
  {
   "cell_type": "markdown",
   "metadata": {},
   "source": [
    "### Da ordem"
   ]
  },
  {
   "cell_type": "code",
   "execution_count": 9,
   "metadata": {},
   "outputs": [],
   "source": [
    "query = \"\"\"\n",
    "    select id_conta, montante ordem_montante\n",
    "    from `tb_ordem`\n",
    "    where id_conta in (\n",
    "        select id_conta\n",
    "        from tb_emprestimo);\n",
    "    \"\"\"\n",
    "df_order = db.to_df(query)"
   ]
  },
  {
   "cell_type": "code",
   "execution_count": 10,
   "metadata": {},
   "outputs": [
    {
     "data": {
      "text/html": [
       "<div>\n",
       "<style scoped>\n",
       "    .dataframe tbody tr th:only-of-type {\n",
       "        vertical-align: middle;\n",
       "    }\n",
       "\n",
       "    .dataframe tbody tr th {\n",
       "        vertical-align: top;\n",
       "    }\n",
       "\n",
       "    .dataframe thead th {\n",
       "        text-align: right;\n",
       "    }\n",
       "</style>\n",
       "<table border=\"1\" class=\"dataframe\">\n",
       "  <thead>\n",
       "    <tr style=\"text-align: right;\">\n",
       "      <th></th>\n",
       "      <th>id_conta</th>\n",
       "      <th>ordem_montante</th>\n",
       "    </tr>\n",
       "  </thead>\n",
       "  <tbody>\n",
       "    <tr>\n",
       "      <th>0</th>\n",
       "      <td>2</td>\n",
       "      <td>3372.70</td>\n",
       "    </tr>\n",
       "    <tr>\n",
       "      <th>1</th>\n",
       "      <td>2</td>\n",
       "      <td>7266.00</td>\n",
       "    </tr>\n",
       "    <tr>\n",
       "      <th>2</th>\n",
       "      <td>19</td>\n",
       "      <td>2523.20</td>\n",
       "    </tr>\n",
       "    <tr>\n",
       "      <th>3</th>\n",
       "      <td>25</td>\n",
       "      <td>2523.20</td>\n",
       "    </tr>\n",
       "    <tr>\n",
       "      <th>4</th>\n",
       "      <td>25</td>\n",
       "      <td>6817.00</td>\n",
       "    </tr>\n",
       "  </tbody>\n",
       "</table>\n",
       "</div>"
      ],
      "text/plain": [
       "   id_conta ordem_montante\n",
       "0         2        3372.70\n",
       "1         2        7266.00\n",
       "2        19        2523.20\n",
       "3        25        2523.20\n",
       "4        25        6817.00"
      ]
     },
     "execution_count": 10,
     "metadata": {},
     "output_type": "execute_result"
    }
   ],
   "source": [
    "df_order.head()"
   ]
  },
  {
   "cell_type": "code",
   "execution_count": 11,
   "metadata": {},
   "outputs": [],
   "source": [
    "#Verificando o tipo de dado de cada coluna\n",
    "#df_order.dtypes "
   ]
  },
  {
   "cell_type": "code",
   "execution_count": 12,
   "metadata": {},
   "outputs": [],
   "source": [
    "df_order['ordem_montante'] = df_order.ordem_montante.astype('float')\n",
    "df = df.join(df_order.groupby('id_conta').mean())\n",
    "df = df.rename(columns={'ordem_montante': 'valor_medio_montante'})"
   ]
  },
  {
   "cell_type": "markdown",
   "metadata": {},
   "source": [
    "### Da Transação"
   ]
  },
  {
   "cell_type": "code",
   "execution_count": 13,
   "metadata": {},
   "outputs": [],
   "source": [
    "query = \"\"\"\n",
    "    select id_conta, montante montante_trans, balanco balanco_trans\n",
    "    from tb_transacao\n",
    "    where id_conta in (\n",
    "        select id_conta\n",
    "        from tb_emprestimo);\n",
    "    \"\"\"\n",
    "df_trans = db.to_df(query)"
   ]
  },
  {
   "cell_type": "code",
   "execution_count": 14,
   "metadata": {},
   "outputs": [],
   "source": [
    "#df_trans.head()"
   ]
  },
  {
   "cell_type": "code",
   "execution_count": 15,
   "metadata": {},
   "outputs": [],
   "source": [
    "n_trans = df_trans.groupby('id_conta').count().iloc[:, 1]\n",
    "n_trans.name = 'n_trans'"
   ]
  },
  {
   "cell_type": "code",
   "execution_count": 16,
   "metadata": {},
   "outputs": [],
   "source": [
    "df_trans = df_trans.groupby('id_conta').mean()\n",
    "df_trans.columns = ['quant_media_trans', 'saldo_medio_trans']"
   ]
  },
  {
   "cell_type": "code",
   "execution_count": 17,
   "metadata": {},
   "outputs": [],
   "source": [
    "df = df.join(df_trans).join(n_trans)"
   ]
  },
  {
   "cell_type": "markdown",
   "metadata": {},
   "source": [
    "### Do Cartão"
   ]
  },
  {
   "cell_type": "code",
   "execution_count": 18,
   "metadata": {},
   "outputs": [],
   "source": [
    "query = \"\"\"\n",
    "    select id_conta, tb_cartao.tipo as tipo_cartao\n",
    "    from tb_emprestimo join tb_disponivel using(id_conta)\n",
    "    left join tb_cartao using(id_disp)\n",
    "    where tb_disponivel.tipo = 'OWNER';\n",
    "    \"\"\"\n",
    "df_card = db.to_df(query)"
   ]
  },
  {
   "cell_type": "code",
   "execution_count": 19,
   "metadata": {},
   "outputs": [],
   "source": [
    "df = df.join(df_card.set_index('id_conta'), how='left')\n",
    "df['tipo_cartao'].fillna('No', inplace=True)"
   ]
  },
  {
   "cell_type": "markdown",
   "metadata": {},
   "source": [
    "### Proprietario da Conta"
   ]
  },
  {
   "cell_type": "code",
   "execution_count": 20,
   "metadata": {},
   "outputs": [],
   "source": [
    "query = \"\"\"\n",
    "    select id_conta, tb_emprestimo.date data_emprestimo, tb_conta.id_cidade acc_id_cida, \n",
    "    tb_cliente.id_cidade cli_id_cida, sexo sexo_dono, dt_nascimento\n",
    "    from tb_emprestimo join tb_conta using(id_conta)\n",
    "    join tb_disponivel using(id_conta)\n",
    "    join tb_cliente using(id_cliente)\n",
    "    where tb_disponivel.tipo = 'OWNER';\n",
    "    \"\"\"\n",
    "df_cli = db.to_df(query)"
   ]
  },
  {
   "cell_type": "code",
   "execution_count": 21,
   "metadata": {},
   "outputs": [],
   "source": [
    "df_cli['mesma_cidade'] = df_cli['acc_id_cida'] == df_cli['cli_id_cida']\n",
    "df_cli['date'] = pd.to_datetime(df_cli['data_emprestimo'], format='%Y-%m-%d')\n",
    "df_cli['dt_nascimento'] = pd.to_datetime(df_cli['dt_nascimento'], format='%Y-%m-%d')\n",
    "df_cli['idade_dono_conta'] = (df_cli['date'] - df_cli['dt_nascimento']).dt.days // 365"
   ]
  },
  {
   "cell_type": "code",
   "execution_count": 22,
   "metadata": {},
   "outputs": [],
   "source": [
    "df = df.join(df_cli.set_index('id_conta')[['mesma_cidade', 'sexo_dono', 'idade_dono_conta']])"
   ]
  },
  {
   "cell_type": "markdown",
   "metadata": {},
   "source": [
    "### A lista final de resultados"
   ]
  },
  {
   "cell_type": "code",
   "execution_count": 23,
   "metadata": {},
   "outputs": [],
   "source": [
    "df_ml = df[['montante', 'duracao', 'pagamentos', 'dias_emprestimo', 'n_habitantes', \n",
    "            'media_salarial', 'taxa_media_desemprego', 'taxa_empreendedor', \n",
    "            'taxa_media_crime', 'valor_medio_montante', 'quant_media_trans', \n",
    "            'saldo_medio_trans', 'n_trans', 'idade_dono_conta', \n",
    "            'frequencia', 'tipo_cartao', 'mesma_cidade', 'sexo_dono', 'default']]"
   ]
  },
  {
   "cell_type": "code",
   "execution_count": 24,
   "metadata": {},
   "outputs": [
    {
     "data": {
      "text/html": [
       "<div>\n",
       "<style scoped>\n",
       "    .dataframe tbody tr th:only-of-type {\n",
       "        vertical-align: middle;\n",
       "    }\n",
       "\n",
       "    .dataframe tbody tr th {\n",
       "        vertical-align: top;\n",
       "    }\n",
       "\n",
       "    .dataframe thead th {\n",
       "        text-align: right;\n",
       "    }\n",
       "</style>\n",
       "<table border=\"1\" class=\"dataframe\">\n",
       "  <thead>\n",
       "    <tr style=\"text-align: right;\">\n",
       "      <th></th>\n",
       "      <th>montante</th>\n",
       "      <th>duracao</th>\n",
       "      <th>pagamentos</th>\n",
       "      <th>dias_emprestimo</th>\n",
       "      <th>n_habitantes</th>\n",
       "      <th>media_salarial</th>\n",
       "      <th>taxa_media_desemprego</th>\n",
       "      <th>taxa_empreendedor</th>\n",
       "      <th>taxa_media_crime</th>\n",
       "      <th>valor_medio_montante</th>\n",
       "      <th>quant_media_trans</th>\n",
       "      <th>saldo_medio_trans</th>\n",
       "      <th>n_trans</th>\n",
       "      <th>idade_dono_conta</th>\n",
       "      <th>frequencia</th>\n",
       "      <th>tipo_cartao</th>\n",
       "      <th>mesma_cidade</th>\n",
       "      <th>sexo_dono</th>\n",
       "      <th>default</th>\n",
       "    </tr>\n",
       "    <tr>\n",
       "      <th>id_conta</th>\n",
       "      <th></th>\n",
       "      <th></th>\n",
       "      <th></th>\n",
       "      <th></th>\n",
       "      <th></th>\n",
       "      <th></th>\n",
       "      <th></th>\n",
       "      <th></th>\n",
       "      <th></th>\n",
       "      <th></th>\n",
       "      <th></th>\n",
       "      <th></th>\n",
       "      <th></th>\n",
       "      <th></th>\n",
       "      <th></th>\n",
       "      <th></th>\n",
       "      <th></th>\n",
       "      <th></th>\n",
       "      <th></th>\n",
       "    </tr>\n",
       "  </thead>\n",
       "  <tbody>\n",
       "    <tr>\n",
       "      <th>8158</th>\n",
       "      <td>238716</td>\n",
       "      <td>36</td>\n",
       "      <td>6631.00</td>\n",
       "      <td>503</td>\n",
       "      <td>78955</td>\n",
       "      <td>9060</td>\n",
       "      <td>2.110</td>\n",
       "      <td>124</td>\n",
       "      <td>0.021354</td>\n",
       "      <td>6105.566667</td>\n",
       "      <td>11514.963636</td>\n",
       "      <td>59032.077273</td>\n",
       "      <td>220</td>\n",
       "      <td>33</td>\n",
       "      <td>PAGAMENTO DIARIO</td>\n",
       "      <td>No</td>\n",
       "      <td>True</td>\n",
       "      <td>masculino</td>\n",
       "      <td>False</td>\n",
       "    </tr>\n",
       "    <tr>\n",
       "      <th>7082</th>\n",
       "      <td>194160</td>\n",
       "      <td>48</td>\n",
       "      <td>4045.00</td>\n",
       "      <td>520</td>\n",
       "      <td>161954</td>\n",
       "      <td>8720</td>\n",
       "      <td>4.115</td>\n",
       "      <td>116</td>\n",
       "      <td>0.022784</td>\n",
       "      <td>2377.000000</td>\n",
       "      <td>3231.188841</td>\n",
       "      <td>28162.781116</td>\n",
       "      <td>233</td>\n",
       "      <td>52</td>\n",
       "      <td>PAGAMENTO MENSAL</td>\n",
       "      <td>No</td>\n",
       "      <td>True</td>\n",
       "      <td>feminino</td>\n",
       "      <td>False</td>\n",
       "    </tr>\n",
       "    <tr>\n",
       "      <th>1527</th>\n",
       "      <td>164052</td>\n",
       "      <td>36</td>\n",
       "      <td>4557.00</td>\n",
       "      <td>367</td>\n",
       "      <td>51313</td>\n",
       "      <td>8930</td>\n",
       "      <td>3.860</td>\n",
       "      <td>108</td>\n",
       "      <td>0.027089</td>\n",
       "      <td>4557.200000</td>\n",
       "      <td>9456.969152</td>\n",
       "      <td>36316.573265</td>\n",
       "      <td>389</td>\n",
       "      <td>19</td>\n",
       "      <td>PAGAMENTO ROTATIVO</td>\n",
       "      <td>No</td>\n",
       "      <td>True</td>\n",
       "      <td>feminino</td>\n",
       "      <td>True</td>\n",
       "    </tr>\n",
       "    <tr>\n",
       "      <th>9227</th>\n",
       "      <td>191580</td>\n",
       "      <td>60</td>\n",
       "      <td>3193.00</td>\n",
       "      <td>176</td>\n",
       "      <td>121947</td>\n",
       "      <td>8541</td>\n",
       "      <td>2.740</td>\n",
       "      <td>131</td>\n",
       "      <td>0.030075</td>\n",
       "      <td>2047.000000</td>\n",
       "      <td>2073.110000</td>\n",
       "      <td>16424.470000</td>\n",
       "      <td>100</td>\n",
       "      <td>32</td>\n",
       "      <td>PAGAMENTO MENSAL</td>\n",
       "      <td>No</td>\n",
       "      <td>True</td>\n",
       "      <td>feminino</td>\n",
       "      <td>False</td>\n",
       "    </tr>\n",
       "    <tr>\n",
       "      <th>4727</th>\n",
       "      <td>107640</td>\n",
       "      <td>24</td>\n",
       "      <td>4485.00</td>\n",
       "      <td>179</td>\n",
       "      <td>88884</td>\n",
       "      <td>8507</td>\n",
       "      <td>1.760</td>\n",
       "      <td>132</td>\n",
       "      <td>0.027187</td>\n",
       "      <td>3308.666667</td>\n",
       "      <td>10215.529745</td>\n",
       "      <td>57480.872521</td>\n",
       "      <td>353</td>\n",
       "      <td>35</td>\n",
       "      <td>PAGAMENTO MENSAL</td>\n",
       "      <td>No</td>\n",
       "      <td>True</td>\n",
       "      <td>feminino</td>\n",
       "      <td>False</td>\n",
       "    </tr>\n",
       "    <tr>\n",
       "      <th>11135</th>\n",
       "      <td>182628</td>\n",
       "      <td>36</td>\n",
       "      <td>5073.00</td>\n",
       "      <td>142</td>\n",
       "      <td>138032</td>\n",
       "      <td>8819</td>\n",
       "      <td>5.520</td>\n",
       "      <td>99</td>\n",
       "      <td>0.031036</td>\n",
       "      <td>4168.500000</td>\n",
       "      <td>5049.298077</td>\n",
       "      <td>39338.670673</td>\n",
       "      <td>416</td>\n",
       "      <td>34</td>\n",
       "      <td>PAGAMENTO MENSAL</td>\n",
       "      <td>No</td>\n",
       "      <td>True</td>\n",
       "      <td>masculino</td>\n",
       "      <td>False</td>\n",
       "    </tr>\n",
       "    <tr>\n",
       "      <th>4503</th>\n",
       "      <td>135360</td>\n",
       "      <td>48</td>\n",
       "      <td>2820.00</td>\n",
       "      <td>363</td>\n",
       "      <td>102609</td>\n",
       "      <td>8187</td>\n",
       "      <td>5.140</td>\n",
       "      <td>94</td>\n",
       "      <td>0.020744</td>\n",
       "      <td>2819.800000</td>\n",
       "      <td>13284.576792</td>\n",
       "      <td>58129.095563</td>\n",
       "      <td>293</td>\n",
       "      <td>20</td>\n",
       "      <td>PAGAMENTO MENSAL</td>\n",
       "      <td>junior</td>\n",
       "      <td>True</td>\n",
       "      <td>masculino</td>\n",
       "      <td>False</td>\n",
       "    </tr>\n",
       "    <tr>\n",
       "      <th>8381</th>\n",
       "      <td>333648</td>\n",
       "      <td>48</td>\n",
       "      <td>6951.00</td>\n",
       "      <td>311</td>\n",
       "      <td>177686</td>\n",
       "      <td>10045</td>\n",
       "      <td>1.565</td>\n",
       "      <td>135</td>\n",
       "      <td>0.036297</td>\n",
       "      <td>5243.266667</td>\n",
       "      <td>10303.048689</td>\n",
       "      <td>49787.872659</td>\n",
       "      <td>267</td>\n",
       "      <td>21</td>\n",
       "      <td>PAGAMENTO MENSAL</td>\n",
       "      <td>No</td>\n",
       "      <td>True</td>\n",
       "      <td>feminino</td>\n",
       "      <td>True</td>\n",
       "    </tr>\n",
       "    <tr>\n",
       "      <th>7859</th>\n",
       "      <td>72120</td>\n",
       "      <td>12</td>\n",
       "      <td>6010.00</td>\n",
       "      <td>616</td>\n",
       "      <td>139012</td>\n",
       "      <td>8363</td>\n",
       "      <td>3.005</td>\n",
       "      <td>108</td>\n",
       "      <td>0.019290</td>\n",
       "      <td>6010.200000</td>\n",
       "      <td>13307.011538</td>\n",
       "      <td>76453.669231</td>\n",
       "      <td>260</td>\n",
       "      <td>44</td>\n",
       "      <td>PAGAMENTO MENSAL</td>\n",
       "      <td>gold</td>\n",
       "      <td>True</td>\n",
       "      <td>feminino</td>\n",
       "      <td>False</td>\n",
       "    </tr>\n",
       "    <tr>\n",
       "      <th>7562</th>\n",
       "      <td>309600</td>\n",
       "      <td>48</td>\n",
       "      <td>6450.00</td>\n",
       "      <td>348</td>\n",
       "      <td>226122</td>\n",
       "      <td>8994</td>\n",
       "      <td>4.295</td>\n",
       "      <td>110</td>\n",
       "      <td>0.041747</td>\n",
       "      <td>6450.200000</td>\n",
       "      <td>13248.549153</td>\n",
       "      <td>66885.874576</td>\n",
       "      <td>295</td>\n",
       "      <td>20</td>\n",
       "      <td>PAGAMENTO DIARIO</td>\n",
       "      <td>No</td>\n",
       "      <td>True</td>\n",
       "      <td>masculino</td>\n",
       "      <td>False</td>\n",
       "    </tr>\n",
       "  </tbody>\n",
       "</table>\n",
       "</div>"
      ],
      "text/plain": [
       "          montante  duracao pagamentos  dias_emprestimo  n_habitantes  \\\n",
       "id_conta                                                                \n",
       "8158        238716       36    6631.00              503         78955   \n",
       "7082        194160       48    4045.00              520        161954   \n",
       "1527        164052       36    4557.00              367         51313   \n",
       "9227        191580       60    3193.00              176        121947   \n",
       "4727        107640       24    4485.00              179         88884   \n",
       "11135       182628       36    5073.00              142        138032   \n",
       "4503        135360       48    2820.00              363        102609   \n",
       "8381        333648       48    6951.00              311        177686   \n",
       "7859         72120       12    6010.00              616        139012   \n",
       "7562        309600       48    6450.00              348        226122   \n",
       "\n",
       "          media_salarial  taxa_media_desemprego  taxa_empreendedor  \\\n",
       "id_conta                                                             \n",
       "8158                9060                  2.110                124   \n",
       "7082                8720                  4.115                116   \n",
       "1527                8930                  3.860                108   \n",
       "9227                8541                  2.740                131   \n",
       "4727                8507                  1.760                132   \n",
       "11135               8819                  5.520                 99   \n",
       "4503                8187                  5.140                 94   \n",
       "8381               10045                  1.565                135   \n",
       "7859                8363                  3.005                108   \n",
       "7562                8994                  4.295                110   \n",
       "\n",
       "          taxa_media_crime  valor_medio_montante  quant_media_trans  \\\n",
       "id_conta                                                              \n",
       "8158              0.021354           6105.566667       11514.963636   \n",
       "7082              0.022784           2377.000000        3231.188841   \n",
       "1527              0.027089           4557.200000        9456.969152   \n",
       "9227              0.030075           2047.000000        2073.110000   \n",
       "4727              0.027187           3308.666667       10215.529745   \n",
       "11135             0.031036           4168.500000        5049.298077   \n",
       "4503              0.020744           2819.800000       13284.576792   \n",
       "8381              0.036297           5243.266667       10303.048689   \n",
       "7859              0.019290           6010.200000       13307.011538   \n",
       "7562              0.041747           6450.200000       13248.549153   \n",
       "\n",
       "          saldo_medio_trans  n_trans  idade_dono_conta          frequencia  \\\n",
       "id_conta                                                                     \n",
       "8158           59032.077273      220                33    PAGAMENTO DIARIO   \n",
       "7082           28162.781116      233                52    PAGAMENTO MENSAL   \n",
       "1527           36316.573265      389                19  PAGAMENTO ROTATIVO   \n",
       "9227           16424.470000      100                32    PAGAMENTO MENSAL   \n",
       "4727           57480.872521      353                35    PAGAMENTO MENSAL   \n",
       "11135          39338.670673      416                34    PAGAMENTO MENSAL   \n",
       "4503           58129.095563      293                20    PAGAMENTO MENSAL   \n",
       "8381           49787.872659      267                21    PAGAMENTO MENSAL   \n",
       "7859           76453.669231      260                44    PAGAMENTO MENSAL   \n",
       "7562           66885.874576      295                20    PAGAMENTO DIARIO   \n",
       "\n",
       "         tipo_cartao  mesma_cidade  sexo_dono  default  \n",
       "id_conta                                                \n",
       "8158              No          True  masculino    False  \n",
       "7082              No          True   feminino    False  \n",
       "1527              No          True   feminino     True  \n",
       "9227              No          True   feminino    False  \n",
       "4727              No          True   feminino    False  \n",
       "11135             No          True  masculino    False  \n",
       "4503          junior          True  masculino    False  \n",
       "8381              No          True   feminino     True  \n",
       "7859            gold          True   feminino    False  \n",
       "7562              No          True  masculino    False  "
      ]
     },
     "execution_count": 24,
     "metadata": {},
     "output_type": "execute_result"
    }
   ],
   "source": [
    "df_ml.sample(10)"
   ]
  },
  {
   "cell_type": "markdown",
   "metadata": {},
   "source": [
    "<a name='correlation'></a>\n",
    "# 4. Correlações\n"
   ]
  },
  {
   "cell_type": "markdown",
   "metadata": {},
   "source": [
    "# Verificação rápida da correlação entre variáveis contínuas."
   ]
  },
  {
   "cell_type": "code",
   "execution_count": 25,
   "metadata": {},
   "outputs": [
    {
     "data": {
      "image/png": "[encoded data removed]",
      "text/plain": [
       "<Figure size 1440x1080 with 1 Axes>"
      ]
     },
     "metadata": {
      "needs_background": "light"
     },
     "output_type": "display_data"
    }
   ],
   "source": [
    "fig, ax = plt.subplots(figsize=(20, 15))\n",
    "sns.heatmap(\n",
    "        df_ml.corr(), \n",
    "        cmap = sns.diverging_palette(220, 10, as_cmap = True),\n",
    "        square=True, \n",
    "        cbar=False,\n",
    "        ax=ax,\n",
    "        annot=True, \n",
    "        linewidths=0.1,vmax=1.0, linecolor='white',\n",
    "        annot_kws={'fontsize':12 })\n",
    "plt.show()"
   ]
  },
  {
   "cell_type": "markdown",
   "metadata": {},
   "source": [
    "<a name='transformation'></a>\n",
    "## 5. Transformações"
   ]
  },
  {
   "cell_type": "markdown",
   "metadata": {},
   "source": [
    "Transformações rápidas: as variáveis ​​numéricas são escaladas usando MinMaxScaler e as variáveis ​​categóricas são codificadas em um ponto."
   ]
  },
  {
   "cell_type": "code",
   "execution_count": 36,
   "metadata": {},
   "outputs": [],
   "source": [
    "from sklearn.compose import ColumnTransformer\n",
    "from sklearn.preprocessing import OneHotEncoder, MinMaxScaler"
   ]
  },
  {
   "cell_type": "code",
   "execution_count": 37,
   "metadata": {},
   "outputs": [],
   "source": [
    "# Defina as colunas numéricas e categóricas\n",
    "num_cols = df_ml.columns[:-5]\n",
    "cat_cols = df_ml.columns[-5:]"
   ]
  },
  {
   "cell_type": "code",
   "execution_count": 38,
   "metadata": {},
   "outputs": [],
   "source": [
    "col_trans = ColumnTransformer([\n",
    "    ('num', MinMaxScaler(), num_cols),\n",
    "    ('cat', OneHotEncoder(drop='if_binary'), cat_cols)\n",
    "])"
   ]
  },
  {
   "cell_type": "code",
   "execution_count": 39,
   "metadata": {},
   "outputs": [
    {
     "name": "stdout",
     "output_type": "stream",
     "text": [
      "ColumnTransformer(transformers=[('num', MinMaxScaler(),\n",
      "                                 Index(['montante', 'duracao', 'pagamentos', 'dias_emprestimo', 'n_habitantes',\n",
      "       'media_salarial', 'taxa_media_desemprego', 'taxa_empreendedor',\n",
      "       'taxa_media_crime', 'valor_medio_montante', 'quant_media_trans',\n",
      "       'saldo_medio_trans', 'n_trans', 'idade_dono_conta'],\n",
      "      dtype='object')),\n",
      "                                ('cat', OneHotEncoder(drop='if_binary'),\n",
      "                                 Index(['frequencia', 'tipo_cartao', 'mesma_cidade', 'sexo_dono', 'default'], dtype='object'))])\n"
     ]
    }
   ],
   "source": [
    "print(col_trans)"
   ]
  },
  {
   "cell_type": "code",
   "execution_count": 40,
   "metadata": {},
   "outputs": [],
   "source": [
    "df_transformed = col_trans.fit_transform(df_ml)\n",
    "X = df_transformed[:, :-1]\n",
    "y = df_transformed[:, -1]"
   ]
  },
  {
   "cell_type": "markdown",
   "metadata": {},
   "source": [
    "<a name='modeling'></a>\n",
    "## 6. Modelagem"
   ]
  },
  {
   "cell_type": "markdown",
   "metadata": {},
   "source": [
    "Novamente, este é apenas um modelo de linha de base, usando RandomForestClassifier, que é um dos modelos mais populares e simples. As métricas de desempenho são escolhidas de acordo com a precisão, F1, ROC AUC. Além disso, as matrizes de confusão são calculadas."
   ]
  },
  {
   "cell_type": "code",
   "execution_count": 57,
   "metadata": {},
   "outputs": [],
   "source": [
    "from sklearn.model_selection import train_test_split, cross_val_score, GridSearchCV, StratifiedKFold\n",
    "from sklearn.ensemble import RandomForestClassifier\n",
    "from sklearn.metrics import f1_score, accuracy_score, roc_auc_score, plot_confusion_matrix, plot_roc_curve"
   ]
  },
  {
   "cell_type": "code",
   "execution_count": 58,
   "metadata": {},
   "outputs": [],
   "source": [
    "# Divisão do dataframe em teste de treinamento\n",
    "\n",
    "X_train, X_test, y_train, y_test = train_test_split(X, y, test_size=0.33, stratify=y, random_state=10)\n"
   ]
  },
  {
   "cell_type": "code",
   "execution_count": 59,
   "metadata": {},
   "outputs": [
    {
     "name": "stdout",
     "output_type": "stream",
     "text": [
      "Acc: 0.8947682752030579\n",
      "F1: 0.10303030303030303\n",
      "ROC AUC: 0.7393827160493827\n"
     ]
    }
   ],
   "source": [
    "# desempenho do modelo inicial\n",
    "clf = RandomForestClassifier(random_state=10)\n",
    "print('Acc:', cross_val_score(clf, X_train, y_train, cv=StratifiedKFold(n_splits=5), scoring='accuracy').mean())\n",
    "print('F1:', cross_val_score(clf, X_train, y_train, cv=StratifiedKFold(n_splits=5), scoring='f1').mean())\n",
    "print('ROC AUC:', cross_val_score(clf, X_train, y_train, cv=StratifiedKFold(n_splits=5), scoring='roc_auc').mean())"
   ]
  },
  {
   "cell_type": "markdown",
   "metadata": {},
   "source": [
    "### Refinando"
   ]
  },
  {
   "cell_type": "markdown",
   "metadata": {},
   "source": [
    "Ajustado F1 Score com precisão "
   ]
  },
  {
   "cell_type": "code",
   "execution_count": 60,
   "metadata": {},
   "outputs": [],
   "source": [
    "params = {\n",
    "    'n_estimators': [10, 50, 100, 200],\n",
    "    'max_depth': [None, 10, 20, 30],\n",
    "    'min_samples_split': [2, 5, 10],\n",
    "    'min_samples_leaf': [1, 2, 5]\n",
    "}"
   ]
  },
  {
   "cell_type": "code",
   "execution_count": 61,
   "metadata": {},
   "outputs": [
    {
     "data": {
      "text/plain": [
       "GridSearchCV(cv=StratifiedKFold(n_splits=5, random_state=10, shuffle=True),\n",
       "             estimator=RandomForestClassifier(random_state=10),\n",
       "             param_grid={'max_depth': [None, 10, 20, 30],\n",
       "                         'min_samples_leaf': [1, 2, 5],\n",
       "                         'min_samples_split': [2, 5, 10],\n",
       "                         'n_estimators': [10, 50, 100, 200]},\n",
       "             scoring='f1')"
      ]
     },
     "execution_count": 61,
     "metadata": {},
     "output_type": "execute_result"
    }
   ],
   "source": [
    "clf = GridSearchCV(RandomForestClassifier(random_state=10), param_grid=params, \n",
    "                   cv=StratifiedKFold(n_splits=5, shuffle=True, random_state=10), scoring='f1')\n",
    "clf.fit(X_train, y_train)"
   ]
  },
  {
   "cell_type": "code",
   "execution_count": 62,
   "metadata": {},
   "outputs": [
    {
     "name": "stdout",
     "output_type": "stream",
     "text": [
      "{'max_depth': 10, 'min_samples_leaf': 2, 'min_samples_split': 5, 'n_estimators': 10}\n"
     ]
    }
   ],
   "source": [
    "print(clf.best_params_)"
   ]
  },
  {
   "cell_type": "code",
   "execution_count": 63,
   "metadata": {},
   "outputs": [
    {
     "data": {
      "text/plain": [
       "0.14242424242424243"
      ]
     },
     "execution_count": 63,
     "metadata": {},
     "output_type": "execute_result"
    }
   ],
   "source": [
    "clf.best_score_"
   ]
  },
  {
   "cell_type": "markdown",
   "metadata": {},
   "source": [
    "### usando os melhores parâmetros"
   ]
  },
  {
   "cell_type": "code",
   "execution_count": 64,
   "metadata": {},
   "outputs": [],
   "source": [
    "clf = RandomForestClassifier(n_estimators=10,\n",
    "                             max_depth=None,\n",
    "                             min_samples_split=5,\n",
    "                             min_samples_leaf=1,\n",
    "                             random_state=11)"
   ]
  },
  {
   "cell_type": "code",
   "execution_count": 65,
   "metadata": {},
   "outputs": [
    {
     "data": {
      "text/plain": [
       "RandomForestClassifier(min_samples_split=5, n_estimators=10, random_state=11)"
      ]
     },
     "execution_count": 65,
     "metadata": {},
     "output_type": "execute_result"
    }
   ],
   "source": [
    "clf.fit(X_train, y_train)"
   ]
  },
  {
   "cell_type": "markdown",
   "metadata": {},
   "source": [
    "### Desempenho no conjunto de treinamento"
   ]
  },
  {
   "cell_type": "code",
   "execution_count": 66,
   "metadata": {},
   "outputs": [],
   "source": [
    "y_train_pred = clf.predict(X_train)\n",
    "y_train_proba = clf.predict_proba(X_train)"
   ]
  },
  {
   "cell_type": "code",
   "execution_count": 67,
   "metadata": {},
   "outputs": [
    {
     "name": "stdout",
     "output_type": "stream",
     "text": [
      "Train Acc: 0.9758771929824561\n",
      "Train F1: 0.8791208791208792\n",
      "Train ROC AUC: 0.9994190268700072\n"
     ]
    }
   ],
   "source": [
    "print('Train Acc:', accuracy_score(y_train, y_train_pred))\n",
    "print('Train F1:', f1_score(y_train, y_train_pred))\n",
    "print('Train ROC AUC:', roc_auc_score(y_train, y_train_proba[:, 1]))"
   ]
  },
  {
   "cell_type": "code",
   "execution_count": 75,
   "metadata": {},
   "outputs": [
    {
     "data": {
      "image/png": "[encoded data removed]",
      "text/plain": [
       "<Figure size 576x432 with 2 Axes>"
      ]
     },
     "metadata": {
      "needs_background": "light"
     },
     "output_type": "display_data"
    }
   ],
   "source": [
    "# Ajustando o modelo com os melhores parâmetros, podemos dar uma olhada no desempenho do modelo em todo o conjunto de trem \n",
    "# e no conjunto de teste:\n",
    "fig, ax = plt.subplots(figsize=(8, 6))\n",
    "plot_confusion_matrix(clf, X_train, y_train, display_labels=['Good', 'Bad'], \n",
    "                      cmap=plt.cm.Blues, ax=ax)\n",
    "ax.set_title('Matriz de conjunto de treinamento')\n",
    "plt.show()"
   ]
  },
  {
   "cell_type": "markdown",
   "metadata": {},
   "source": [
    "### Desempenho no conjunto de teste"
   ]
  },
  {
   "cell_type": "code",
   "execution_count": 69,
   "metadata": {},
   "outputs": [],
   "source": [
    "y_test_pred = clf.predict(X_test)\n",
    "y_test_proba = clf.predict_proba(X_test)"
   ]
  },
  {
   "cell_type": "code",
   "execution_count": 70,
   "metadata": {},
   "outputs": [
    {
     "name": "stdout",
     "output_type": "stream",
     "text": [
      "test Acc: 0.8982300884955752\n",
      "test F1: 0.25806451612903225\n",
      "test ROC AUC: 0.7560199004975123\n"
     ]
    }
   ],
   "source": [
    "print('test Acc:', accuracy_score(y_test, y_test_pred))\n",
    "print('test F1:', f1_score(y_test, y_test_pred))\n",
    "print('test ROC AUC:', roc_auc_score(y_test, y_test_proba[:, 1]))"
   ]
  },
  {
   "cell_type": "code",
   "execution_count": 72,
   "metadata": {},
   "outputs": [
    {
     "data": {
      "image/png": "[encoded data removed]",
      "text/plain": [
       "<Figure size 576x432 with 2 Axes>"
      ]
     },
     "metadata": {
      "needs_background": "light"
     },
     "output_type": "display_data"
    }
   ],
   "source": [
    " \n",
    "fig, ax = plt.subplots(figsize=(8, 6))\n",
    "plot_confusion_matrix(clf, X_test, y_test, display_labels=['Good', 'Bad'], \n",
    "                      cmap=plt.cm.Blues, ax=ax)\n",
    "ax.set_title('Matriz de conjunto de teste')\n",
    "plt.show()"
   ]
  },
  {
   "cell_type": "code",
   "execution_count": 74,
   "metadata": {},
   "outputs": [
    {
     "data": {
      "image/png": "[encoded data removed]",
      "text/plain": [
       "<Figure size 576x576 with 1 Axes>"
      ]
     },
     "metadata": {
      "needs_background": "light"
     },
     "output_type": "display_data"
    }
   ],
   "source": [
    " \n",
    "fig, ax = plt.subplots(figsize=(8, 8))\n",
    "plot_roc_curve(clf, X_test, y_test, ax=ax)\n",
    "ax.plot([0, 1], [0, 1], linestyle='--', lw=2, color='r',\n",
    "        label='Chance', alpha=.8)\n",
    "ax.set_title('Curva no conjunto de teste')\n",
    "plt.show()"
   ]
  },
  {
   "cell_type": "markdown",
   "metadata": {},
   "source": [
    "## 7. Importância do recurso"
   ]
  },
  {
   "cell_type": "markdown",
   "metadata": {},
   "source": [
    "Com o modelo construído, agora podemos classificar os recursos com base em sua importância. Os 5 principais recursos com mais poderes de previsão são::\n",
    "- Saldo médio de transação\n",
    "- Valor médio da transação\n",
    "- Montante do empréstimo\n",
    "- Salário médio\n",
    "- Dias entre a criação da conta e o pedido de empréstimo  "
   ]
  },
  {
   "cell_type": "code",
   "execution_count": 77,
   "metadata": {},
   "outputs": [
    {
     "data": {
      "text/html": [
       "<div>\n",
       "<style scoped>\n",
       "    .dataframe tbody tr th:only-of-type {\n",
       "        vertical-align: middle;\n",
       "    }\n",
       "\n",
       "    .dataframe tbody tr th {\n",
       "        vertical-align: top;\n",
       "    }\n",
       "\n",
       "    .dataframe thead th {\n",
       "        text-align: right;\n",
       "    }\n",
       "</style>\n",
       "<table border=\"1\" class=\"dataframe\">\n",
       "  <thead>\n",
       "    <tr style=\"text-align: right;\">\n",
       "      <th></th>\n",
       "      <th>característica</th>\n",
       "      <th>importância</th>\n",
       "    </tr>\n",
       "  </thead>\n",
       "  <tbody>\n",
       "    <tr>\n",
       "      <th>11</th>\n",
       "      <td>saldo_medio_trans</td>\n",
       "      <td>0.146062</td>\n",
       "    </tr>\n",
       "    <tr>\n",
       "      <th>2</th>\n",
       "      <td>pagamentos</td>\n",
       "      <td>0.091767</td>\n",
       "    </tr>\n",
       "    <tr>\n",
       "      <th>7</th>\n",
       "      <td>taxa_empreendedor</td>\n",
       "      <td>0.090008</td>\n",
       "    </tr>\n",
       "    <tr>\n",
       "      <th>5</th>\n",
       "      <td>media_salarial</td>\n",
       "      <td>0.084429</td>\n",
       "    </tr>\n",
       "    <tr>\n",
       "      <th>9</th>\n",
       "      <td>valor_medio_montante</td>\n",
       "      <td>0.082080</td>\n",
       "    </tr>\n",
       "    <tr>\n",
       "      <th>0</th>\n",
       "      <td>montante</td>\n",
       "      <td>0.078777</td>\n",
       "    </tr>\n",
       "    <tr>\n",
       "      <th>10</th>\n",
       "      <td>quant_media_trans</td>\n",
       "      <td>0.070066</td>\n",
       "    </tr>\n",
       "    <tr>\n",
       "      <th>3</th>\n",
       "      <td>dias_emprestimo</td>\n",
       "      <td>0.064267</td>\n",
       "    </tr>\n",
       "    <tr>\n",
       "      <th>12</th>\n",
       "      <td>n_trans</td>\n",
       "      <td>0.048833</td>\n",
       "    </tr>\n",
       "    <tr>\n",
       "      <th>13</th>\n",
       "      <td>idade_dono_conta</td>\n",
       "      <td>0.047277</td>\n",
       "    </tr>\n",
       "    <tr>\n",
       "      <th>8</th>\n",
       "      <td>taxa_media_crime</td>\n",
       "      <td>0.041718</td>\n",
       "    </tr>\n",
       "    <tr>\n",
       "      <th>6</th>\n",
       "      <td>taxa_media_desemprego</td>\n",
       "      <td>0.037358</td>\n",
       "    </tr>\n",
       "    <tr>\n",
       "      <th>4</th>\n",
       "      <td>n_habitantes</td>\n",
       "      <td>0.031013</td>\n",
       "    </tr>\n",
       "    <tr>\n",
       "      <th>1</th>\n",
       "      <td>duracao</td>\n",
       "      <td>0.029336</td>\n",
       "    </tr>\n",
       "    <tr>\n",
       "      <th>15</th>\n",
       "      <td>x0_PAGAMENTO MENSAL</td>\n",
       "      <td>0.014263</td>\n",
       "    </tr>\n",
       "    <tr>\n",
       "      <th>14</th>\n",
       "      <td>x0_PAGAMENTO DIARIO</td>\n",
       "      <td>0.013151</td>\n",
       "    </tr>\n",
       "    <tr>\n",
       "      <th>22</th>\n",
       "      <td>x3_masculino</td>\n",
       "      <td>0.008614</td>\n",
       "    </tr>\n",
       "    <tr>\n",
       "      <th>17</th>\n",
       "      <td>x1_No</td>\n",
       "      <td>0.007089</td>\n",
       "    </tr>\n",
       "    <tr>\n",
       "      <th>21</th>\n",
       "      <td>x2_True</td>\n",
       "      <td>0.005747</td>\n",
       "    </tr>\n",
       "    <tr>\n",
       "      <th>16</th>\n",
       "      <td>x0_PAGAMENTO ROTATIVO</td>\n",
       "      <td>0.004435</td>\n",
       "    </tr>\n",
       "    <tr>\n",
       "      <th>18</th>\n",
       "      <td>x1_classic</td>\n",
       "      <td>0.003708</td>\n",
       "    </tr>\n",
       "    <tr>\n",
       "      <th>19</th>\n",
       "      <td>x1_gold</td>\n",
       "      <td>0.000000</td>\n",
       "    </tr>\n",
       "    <tr>\n",
       "      <th>20</th>\n",
       "      <td>x1_junior</td>\n",
       "      <td>0.000000</td>\n",
       "    </tr>\n",
       "  </tbody>\n",
       "</table>\n",
       "</div>"
      ],
      "text/plain": [
       "           característica  importância\n",
       "11      saldo_medio_trans     0.146062\n",
       "2              pagamentos     0.091767\n",
       "7       taxa_empreendedor     0.090008\n",
       "5          media_salarial     0.084429\n",
       "9    valor_medio_montante     0.082080\n",
       "0                montante     0.078777\n",
       "10      quant_media_trans     0.070066\n",
       "3         dias_emprestimo     0.064267\n",
       "12                n_trans     0.048833\n",
       "13       idade_dono_conta     0.047277\n",
       "8        taxa_media_crime     0.041718\n",
       "6   taxa_media_desemprego     0.037358\n",
       "4            n_habitantes     0.031013\n",
       "1                 duracao     0.029336\n",
       "15    x0_PAGAMENTO MENSAL     0.014263\n",
       "14    x0_PAGAMENTO DIARIO     0.013151\n",
       "22           x3_masculino     0.008614\n",
       "17                  x1_No     0.007089\n",
       "21                x2_True     0.005747\n",
       "16  x0_PAGAMENTO ROTATIVO     0.004435\n",
       "18             x1_classic     0.003708\n",
       "19                x1_gold     0.000000\n",
       "20              x1_junior     0.000000"
      ]
     },
     "execution_count": 77,
     "metadata": {},
     "output_type": "execute_result"
    }
   ],
   "source": [
    "feature_names = num_cols.tolist() + col_trans.transformers_[1][1].get_feature_names().tolist()[:-1]\n",
    "df_importance = pd.DataFrame({'característica': feature_names, 'importância': clf.feature_importances_})\n",
    "df_importance.sort_values('importância', ascending=False)"
   ]
  }
 ],
 "metadata": {
  "kernelspec": {
   "display_name": "Python 3",
   "language": "python",
   "name": "python3"
  },
  "language_info": {
   "codemirror_mode": {
    "name": "ipython",
    "version": 3
   },
   "file_extension": ".py",
   "mimetype": "text/x-python",
   "name": "python",
   "nbconvert_exporter": "python",
   "pygments_lexer": "ipython3",
   "version": "3.7.6"
  }
 },
 "nbformat": 4,
 "nbformat_minor": 4
}
